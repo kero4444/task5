{
 "cells": [
  {
   "cell_type": "code",
   "execution_count": 8,
   "id": "807621b9-9907-45b2-8011-0562a4e59f10",
   "metadata": {},
   "outputs": [
    {
     "name": "stdout",
     "output_type": "stream",
     "text": [
      "<function is_prime at 0x000001AEADC71440>\n"
     ]
    }
   ],
   "source": [
    "\n",
    "def is_prime(n):\n",
    "    if n <= 1:\n",
    "        return false \n",
    "    for i in range(2, int(n**0.5) + 1):\n",
    "        if n % i == 0:\n",
    "            return false\n",
    "    \n",
    "print(is_prime)"
   ]
  },
  {
   "cell_type": "code",
   "execution_count": 17,
   "id": "03829a80-feee-45fa-94b1-6ce418bd99d6",
   "metadata": {},
   "outputs": [
    {
     "name": "stdout",
     "output_type": "stream",
     "text": [
      "80\n",
      "40\n",
      "1200\n",
      "3.0\n"
     ]
    }
   ],
   "source": [
    "def calculator(a ,b ,operation):\n",
    "    if operation == \"add\":\n",
    "        return a + b\n",
    "    elif operation == \"subtract\":\n",
    "        return a - b\n",
    "    elif operation == \"multiply\":\n",
    "        return a * b\n",
    "    elif operation == \"divide\":\n",
    "         if b != 0:\n",
    "             return a / b\n",
    "         else:\n",
    "             return \"error: divisin by sero\"\n",
    "    else:\n",
    "        return \"invalid operation\"\n",
    "               \n",
    "    \n",
    "\n",
    "print(calculator(60, 20, \"add\"))\n",
    "print(calculator(60, 20, \"subtract\"))\n",
    "print(calculator(60, 20, \"multiply\"))\n",
    "print(calculator(60, 20, \"divide\"))\n",
    "      \n",
    "     "
   ]
  },
  {
   "cell_type": "code",
   "execution_count": null,
   "id": "bedd1728-341c-4a75-a55c-64da4097f606",
   "metadata": {},
   "outputs": [],
   "source": []
  }
 ],
 "metadata": {
  "kernelspec": {
   "display_name": "Python 3 (ipykernel)",
   "language": "python",
   "name": "python3"
  },
  "language_info": {
   "codemirror_mode": {
    "name": "ipython",
    "version": 3
   },
   "file_extension": ".py",
   "mimetype": "text/x-python",
   "name": "python",
   "nbconvert_exporter": "python",
   "pygments_lexer": "ipython3",
   "version": "3.13.5"
  }
 },
 "nbformat": 4,
 "nbformat_minor": 5
}
